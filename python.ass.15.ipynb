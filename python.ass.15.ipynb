{
 "cells": [
  {
   "cell_type": "markdown",
   "id": "bfc29515",
   "metadata": {},
   "source": [
    "# 1.How many seconds are in an hour? Use the interactive interpreter as a calculator and multiply the number of seconds in a minute (60) by the number of minutes in an hour (also 60). sol. 60"
   ]
  },
  {
   "cell_type": "code",
   "execution_count": null,
   "id": "279be3e6",
   "metadata": {},
   "outputs": [],
   "source": [
    "To calculate the number of seconds in an hour, you can multiply the number of seconds in a minute (60) by the number of minutes in an hour (60).\n",
    "\n",
    "Using the interactive interpreter as a calculator, you can perform this calculation:\n",
    ">>> seconds_in_minute = 60\n",
    ">>> minutes_in_hour = 60\n",
    ">>> seconds_in_hour = seconds_in_minute * minutes_in_hour\n",
    ">>> seconds_in_hour\n",
    "3600\n",
    "\n",
    "Therefore, there are 3600 seconds in an hour."
   ]
  },
  {
   "cell_type": "markdown",
   "id": "bc06550a",
   "metadata": {},
   "source": [
    "# 2. Assign the result from the previous task (seconds in an hour) to a variable called seconds_per_hour."
   ]
  },
  {
   "cell_type": "code",
   "execution_count": null,
   "id": "7e310aca",
   "metadata": {},
   "outputs": [],
   "source": [
    "To assign the result from the previous task (seconds in an hour) to a variable called seconds_per_hour, you can use the following code:\n",
    " \n",
    "seconds_per_hour = 3600\n",
    "\n",
    "By assigning the value of 3600 to the variable seconds_per_hour, you can now use seconds_per_hour throughout your code to represent the number of seconds in an hour."
   ]
  },
  {
   "cell_type": "markdown",
   "id": "428bdd15",
   "metadata": {},
   "source": [
    "# 3. How many seconds do you think there are in a day? Make use of the variables seconds per hour and minutes per hour."
   ]
  },
  {
   "cell_type": "code",
   "execution_count": null,
   "id": "447c0293",
   "metadata": {},
   "outputs": [],
   "source": [
    "To calculate the number of seconds in a day, you can multiply the number of seconds per hour by the number of hours in a day.\n",
    "\n",
    "Given that there are 24 hours in a day, and based on the previous variable seconds_per_hour which is set to 3600, you can calculate the number of seconds in a day using the following code:\n",
    "    seconds_per_hour = 3600\n",
    "hours_per_day = 24\n",
    "\n",
    "seconds_per_day = seconds_per_hour * hours_per_day\n",
    "print(seconds_per_day)\n",
    "\n",
    "Output: 86400\n",
    "Therefore, there are 86,400 seconds in a day.\n",
    "    "
   ]
  },
  {
   "cell_type": "markdown",
   "id": "ee199201",
   "metadata": {},
   "source": [
    "# 4. Calculate seconds per day again, but this time save the result in a variable called seconds_per_day"
   ]
  },
  {
   "cell_type": "code",
   "execution_count": null,
   "id": "6cea318d",
   "metadata": {},
   "outputs": [],
   "source": [
    "Certainly! To calculate the number of seconds in a day and save the result in a variable called seconds_per_day, you can use the following code:\n",
    "seconds_per_hour = 3600\n",
    "hours_per_day = 24\n",
    "\n",
    "seconds_per_day = seconds_per_hour * hours_per_day\n",
    "print(seconds_per_day)\n",
    "\n",
    "Output: 86400\n",
    "\n",
    "The variable seconds_per_day now holds the value 86400, which represents the number of seconds in a day.    "
   ]
  },
  {
   "cell_type": "markdown",
   "id": "f5d54675",
   "metadata": {},
   "source": [
    "# 5. Divide seconds_per_day by seconds_per_hour. Use floating-point (/) division."
   ]
  },
  {
   "cell_type": "code",
   "execution_count": null,
   "id": "b424a98b",
   "metadata": {},
   "outputs": [],
   "source": [
    "To divide seconds_per_day by seconds_per_hour using floating-point division, you can use the following code:\n",
    "seconds_per_hour = 3600\n",
    "seconds_per_day = 86400\n",
    "\n",
    "result = seconds_per_day / seconds_per_hour\n",
    "print(result)\n",
    "\n",
    "Output:  24.0\n",
    "    \n",
    "The division seconds_per_day / seconds_per_hour results in 24.0, which is a floating-point value."
   ]
  },
  {
   "cell_type": "markdown",
   "id": "976a00e7",
   "metadata": {},
   "source": [
    "# 6. Divide seconds_per_day by seconds_per_hour, using integer (//) division. Did this number agree with the floating-point value from the previous question, aside from the final .0?"
   ]
  },
  {
   "cell_type": "code",
   "execution_count": null,
   "id": "f3c219a4",
   "metadata": {},
   "outputs": [],
   "source": [
    "To divide seconds_per_day by seconds_per_hour using integer (//) division, you can use the following code:\n",
    "seconds_per_hour = 3600\n",
    "seconds_per_day = 86400\n",
    "\n",
    "result = seconds_per_day // seconds_per_hour\n",
    "print(result)\n",
    "\n",
    "Output:   24\n",
    "\n",
    "The integer division seconds_per_day // seconds_per_hour results in 24, which is an integer value.\n",
    "\n",
    "Yes, the result of the integer division agrees with the floating-point value from the previous question, aside from the final .0. In both cases, the division yields 24, indicating that there are 24 whole hours in a day when considering the number of seconds."
   ]
  },
  {
   "cell_type": "markdown",
   "id": "0a14b766",
   "metadata": {},
   "source": [
    "# 7. Write a generator, genPrimes, that returns the sequence of prime numbers on successive calls to its next() method: 2, 3, 5, 7, 11, ..."
   ]
  },
  {
   "cell_type": "code",
   "execution_count": null,
   "id": "26c93b7c",
   "metadata": {},
   "outputs": [],
   "source": [
    "Certainly! Here's an example of a generator function called genPrimes that generates the sequence of prime numbers on successive calls to its next() method:\n",
    "def genPrimes():\n",
    "    primes = []  # List to store the prime numbers generated so far\n",
    "    num = 2     # Starting number to check for primality\n",
    "    \n",
    "    while True:\n",
    "        if all(num % prime != 0 for prime in primes):\n",
    "            primes.append(num)\n",
    "            yield num\n",
    "        num += 1\n",
    "In this generator function, we maintain a list primes to store the prime numbers generated so far. We start with num initialized to 2, the first prime number.\n",
    "\n",
    "The generator function runs in an infinite loop (while True) and checks if num is divisible by any number in primes. If num is not divisible by any number in primes, it is considered a prime number. In that case, we add it to the primes list and yield it using the yield keyword.\n",
    "\n",
    "On each successive call to the next() method of the generator, it will generate the next prime number in the sequence.\n",
    "\n",
    "Here's an example of using the genPrimes generator:\n",
    "primes_generator = genPrimes()\n",
    "\n",
    "print(next(primes_generator))  # Output: 2\n",
    "print(next(primes_generator))  # Output: 3\n",
    "print(next(primes_generator))  # Output: 5\n",
    "print(next(primes_generator))  # Output: 7\n",
    "print(next(primes_generator))  # Output: 11\n",
    "# ..."
   ]
  }
 ],
 "metadata": {
  "kernelspec": {
   "display_name": "Python 3 (ipykernel)",
   "language": "python",
   "name": "python3"
  },
  "language_info": {
   "codemirror_mode": {
    "name": "ipython",
    "version": 3
   },
   "file_extension": ".py",
   "mimetype": "text/x-python",
   "name": "python",
   "nbconvert_exporter": "python",
   "pygments_lexer": "ipython3",
   "version": "3.9.12"
  }
 },
 "nbformat": 4,
 "nbformat_minor": 5
}
